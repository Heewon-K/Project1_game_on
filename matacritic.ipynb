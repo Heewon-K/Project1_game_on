{
 "cells": [
  {
   "cell_type": "markdown",
   "metadata": {},
   "source": [
    "1. metacritic url받아오기\n",
    "2. /critic-reviews 랑 /user-reviews 내용 가져오기 => url + '/critic-reviews' \n",
    "3. 가져 온 텍스트 영어인지 필터 : isalpha()사용? 아님 nltk이용\n",
    "4. 텍스트로 파일 저장\n",
    "==> wordcloud"
   ]
  },
  {
   "cell_type": "code",
   "execution_count": 2,
   "metadata": {},
   "outputs": [],
   "source": [
    "import pandas as pd\n",
    "import json\n",
    "\n",
    "from langdetect import detect\n",
    "\n",
    "import requests\n",
    "from bs4 import BeautifulSoup\n",
    "\n",
    "from wordcloud import WordCloud, STOPWORDS\n",
    "import numpy as np\n",
    "from PIL import Image\n",
    "import matplotlib.pyplot as plt\n",
    "\n",
    "from textblob import TextBlob\n",
    "\n",
    "from selenium import webdriver\n",
    "from selenium.webdriver.chrome.service import Service\n",
    "from selenium.webdriver.common.by import By\n",
    "\n",
    "import time\n",
    "\n",
    "from datetime import datetime\n",
    "from tqdm import tqdm"
   ]
  },
  {
   "cell_type": "markdown",
   "metadata": {},
   "source": [
    "### 스팀에서 matacritic 정보 받아보기"
   ]
  },
  {
   "cell_type": "code",
   "execution_count": 8,
   "metadata": {},
   "outputs": [],
   "source": [
    "result = []\n",
    "rank_length = 200\n",
    "# 50: 숨겨진 리스트가 50개씩 출력되기 때문\n",
    "for start in range(0, rank_length, 50):\n",
    "    URL = 'https://store.steampowered.com/search/results/?query&start='+str(start)+'&count=50&sort_by=Released_DESC&snr=1_7_7_popularnew_7&filter=popularnew&os=win&infinite=1'\n",
    "    res = requests.get(URL)\n",
    "    json_data = res.json()\n",
    "    soup = BeautifulSoup(json_data['results_html'], 'html.parser')\n",
    "    # steam = soup.select_one('#search_resultsRows')\n",
    "    titles = soup.select('.col.search_name.ellipsis .title')\n",
    "    \n",
    "    for title in titles:\n",
    "        result.append(title.text)"
   ]
  },
  {
   "cell_type": "code",
   "execution_count": 3,
   "metadata": {},
   "outputs": [],
   "source": [
    "# setting to get api key outside the Jupyter notebook \n",
    "from dotenv import load_dotenv\n",
    "load_dotenv('.env')\n",
    "\n",
    "from steam import Steam\n",
    "import os\n",
    "\n",
    "KEY = os.getenv('STEAM_API_KEY')  # using env file to access the api key while not exposing it on the code\n",
    "steam = Steam(KEY)"
   ]
  },
  {
   "cell_type": "code",
   "execution_count": 10,
   "metadata": {},
   "outputs": [
    {
     "name": "stderr",
     "output_type": "stream",
     "text": [
      "  0%|          | 0/200 [00:00<?, ?it/s]"
     ]
    },
    {
     "name": "stderr",
     "output_type": "stream",
     "text": [
      "100%|██████████| 200/200 [03:11<00:00,  1.04it/s]"
     ]
    },
    {
     "name": "stdout",
     "output_type": "stream",
     "text": [
      "CPU times: total: 30.4 s\n",
      "Wall time: 3min 11s\n"
     ]
    },
    {
     "name": "stderr",
     "output_type": "stream",
     "text": [
      "\n"
     ]
    }
   ],
   "source": [
    "%%time\n",
    "url_dict = {}\n",
    "\n",
    "for game_name in tqdm(result):\n",
    "    # 데이터 정보가 없는 경우도 있음\n",
    "    try:\n",
    "        game = steam.apps.search_games(game_name)\n",
    "        \n",
    "        game_id = game['apps'][0]['id']\n",
    "        game_info = steam.apps.get_app_details(game_id)\n",
    "        game_info = json.loads(game_info)\n",
    "        m_url = game_info[str(game_id)]['data']['metacritic']['url']\n",
    "        url_dict[game_name] =m_url  \n",
    "    except:\n",
    "        pass\n",
    "    \n",
    "len(url_dict)"
   ]
  },
  {
   "cell_type": "markdown",
   "metadata": {},
   "source": [
    "### url이 스팀 웹에 없는 게임들을 일일이 matacritic 웹사이트에서 검색"
   ]
  },
  {
   "cell_type": "markdown",
   "metadata": {},
   "source": [
    "#### test 미니 데이터 돌려보기!"
   ]
  },
  {
   "cell_type": "code",
   "execution_count": 86,
   "metadata": {},
   "outputs": [],
   "source": [
    "# setting driver\n",
    "path = '../driver/chromedriver.exe'\n",
    "driver = webdriver.Chrome(service = Service(path))\n",
    "\n",
    "driver.get('https://www.metacritic.com/game/pc/dave-the-diver/critic-reviews')\n",
    "\n",
    "def get_content(driver):\n",
    "    html = driver.page_source\n",
    "    soup = BeautifulSoup(html, 'html.parser')\n",
    "    parent_div = soup.select('div.review_body')\n",
    "    # 본문 내용 가져오기\n",
    "    text = []\n",
    "    for n in range(len(parent_div)):\n",
    "        if not parent_div[n].find(class_ = 'blurb blurb_expanded') == None:\n",
    "            content = parent_div[n].find(class_ = 'blurb blurb_expanded').get_text()\n",
    "            if detect(content) == 'en':\n",
    "                text.append(content)\n",
    "            else:\n",
    "                pass          \n",
    "        else:\n",
    "            txt = parent_div[n].get_text()\n",
    "            if detect(txt) == 'en':\n",
    "                text.append(txt)\n",
    "            else:\n",
    "                pass\n",
    "            \n",
    "    # 만들어진 text리스트를 str으로 변환\n",
    "    textStr = ' '.join(map(str, text))\n",
    "        \n",
    "    # word cloud dictionary를 추출!\n",
    "    stopwords = set(STOPWORDS)\n",
    "    stopwords.add('game')\n",
    "\n",
    "    wc = WordCloud(stopwords=stopwords, margin = 10, random_state=1).generate(textStr)\n",
    "    content = wc.words_\n",
    "        \n",
    "    return content\n",
    "\n",
    "get_content(driver)\n",
    "\n",
    "driver.close()"
   ]
  },
  {
   "cell_type": "markdown",
   "metadata": {},
   "source": [
    "### 다수의 게임정보를 추출"
   ]
  },
  {
   "cell_type": "code",
   "execution_count": 5,
   "metadata": {},
   "outputs": [],
   "source": [
    "# 검색 결과 url을 만들어서 접속하기\n",
    "def critic_reviews(game_name):\n",
    "    url = 'https://www.metacritic.com/game/pc/' + game_name + '/critic-reviews'\n",
    "    # setting driver\n",
    "    path = '../driver/chromedriver.exe'\n",
    "    driver = webdriver.Chrome(service = Service(path))\n",
    "    driver.get(url)\n",
    "#c_url = critic_reviews(game_name)\n",
    "\n",
    "def user_reviews(game_name):\n",
    "    url = 'https://www.metacritic.com/game/pc/' + game_name + '/user-reviews'\n",
    "    path = '../driver/chromedriver.exe'\n",
    "    driver = webdriver.Chrome(service = Service(path))\n",
    "    driver.get(url)\n",
    "#u_url = critic_reviews(game_name)\n",
    "\n",
    "# 게시물 내용 가져오기\n",
    "def get_content(driver):\n",
    "    # 현재 페이지 html정보 가져오기\n",
    "    html = driver.page_source\n",
    "    soup = BeautifulSoup(html, 'html.parser')\n",
    "    parent_div = soup.select('div.review_body')\n",
    "    # 본문 내용 가져오기\n",
    "    text = []\n",
    "    for n in range(len(parent_div)):\n",
    "        if not parent_div[n].find(class_ = 'blurb blurb_expanded') == None:\n",
    "            review = parent_div[n].find(class_ = 'blurb blurb_expanded').get_text()\n",
    "            if detect(review) == 'en':\n",
    "                text.append(review)\n",
    "            else:\n",
    "                pass          \n",
    "        else:\n",
    "            txt = parent_div[n].get_text()\n",
    "            if detect(txt) == 'en':\n",
    "                text.append(txt)\n",
    "            else:\n",
    "                pass\n",
    "    # 만들어진 text리스트를 str으로 변환\n",
    "    textStr = ' '.join(map(str, text))\n",
    "    \n",
    "    # word cloud dictionary를 추출!\n",
    "    stopwords = set(STOPWORDS)\n",
    "    stopwords.add('game')\n",
    "\n",
    "    wc = WordCloud(stopwords=stopwords, margin = 10, random_state=1).generate(textStr)\n",
    "    content = wc.words_\n",
    "    \n",
    "    return content\n"
   ]
  },
  {
   "cell_type": "markdown",
   "metadata": {},
   "source": [
    "### 만들어진 CLASS와 정보등등으로 FINAL 결과 값을 추출"
   ]
  },
  {
   "cell_type": "markdown",
   "metadata": {},
   "source": [
    "1. 아애 paht, driver를 class에 넣기\n",
    "2. time.sleep이 필요한가"
   ]
  },
  {
   "cell_type": "code",
   "execution_count": 138,
   "metadata": {},
   "outputs": [
    {
     "name": "stderr",
     "output_type": "stream",
     "text": [
      "100%|██████████| 2/2 [00:10<00:00,  5.01s/it]\n"
     ]
    }
   ],
   "source": [
    "results = {}\n",
    "\n",
    "for game_name in tqdm(game_list):\n",
    "    try:\n",
    "        # setting driver\n",
    "        path = '../driver/chromedriver.exe'\n",
    "        driver = webdriver.Chrome(service = Service(path))\n",
    "        # 개별의 게임의 리뷰를 reviews 딕셔너리에 추가\n",
    "        reviews = {}\n",
    "        # 개별 게임의 critic 리뷰들을 추출해서 딕셔너리에 추가\n",
    "        driver.get(critic_reviews(game_name))\n",
    "        data = get_content(driver)\n",
    "        reviews['critics'] = data    \n",
    "        driver.close()\n",
    "        # 개별 게임의 critic 리뷰들을 추출해서 딕셔너리에 추가\n",
    "        driver.get(user_reviews(game_name))\n",
    "        data = get_content(driver)\n",
    "        reviews['users'] = data\n",
    "        driver.close()\n",
    "        \n",
    "        results[game_name] = reviews['critics'] | reviews['users']\n",
    "    except:\n",
    "        time.sleep(5)"
   ]
  },
  {
   "cell_type": "code",
   "execution_count": null,
   "metadata": {},
   "outputs": [],
   "source": [
    "results = {}\n",
    "\n",
    "for game_name in tqdm(game_list):\n",
    "    try:\n",
    "        # setting driver\n",
    "        path = '../driver/chromedriver.exe'\n",
    "        driver = webdriver.Chrome(service = Service(path))\n",
    "        # 개별의 게임의 리뷰를 reviews 딕셔너리에 추가\n",
    "        reviews = {}\n",
    "        # 개별 게임의 critic 리뷰들을 추출해서 딕셔너리에 추가\n",
    "        driver.get(critic_reviews(game_name))\n",
    "        data = get_content(driver)\n",
    "        reviews['critics'] = data    \n",
    "        driver.close()\n",
    "    except:\n",
    "        pass\n",
    "\n",
    "\n",
    "for game_name in tqdm(game_list):\n",
    "    try:\n",
    "        # setting driver\n",
    "        path = '../driver/chromedriver.exe'\n",
    "        driver = webdriver.Chrome(service = Service(path))\n",
    "        # 개별의 게임의 리뷰를 reviews 딕셔너리에 추가\n",
    "        reviews = {}\n",
    "        # 개별 게임의 user 리뷰들을 추출해서 딕셔너리에 추가\n",
    "        driver.get(user_reviews(game_name))\n",
    "        data = get_content(driver)\n",
    "        reviews['users'] = data\n",
    "        driver.close()\n",
    "    except:\n",
    "        pass\n",
    "\n",
    "results[game_name] = reviews['critics'] | reviews['users']"
   ]
  },
  {
   "cell_type": "code",
   "execution_count": 11,
   "metadata": {},
   "outputs": [
    {
     "name": "stderr",
     "output_type": "stream",
     "text": [
      "100%|██████████| 2/2 [01:40<00:00, 50.29s/it]\n"
     ]
    }
   ],
   "source": [
    "results = {}\n",
    "game_list_t = ['dave-the-diver', 'pizza-tower']\n",
    "for game_name in tqdm(game_list_t):\n",
    "    try:\n",
    "        path = '../driver/chromedriver.exe'\n",
    "        driver = webdriver.Chrome(service = Service(path))\n",
    "        \n",
    "        reviews = {}\n",
    "        driver.get(critic_reviews(game_name))\n",
    "        data = get_content(driver)\n",
    "        reviews['critics'] = data    \n",
    "        driver.close()\n",
    "        \n",
    "        path = '../driver/chromedriver.exe'\n",
    "        driver = webdriver.Chrome(service = Service(path))\n",
    "        \n",
    "        driver.get(user_reviews(game_name))\n",
    "        data = get_content(driver)\n",
    "        reviews['users'] = data\n",
    "        driver.close()\n",
    "        \n",
    "        results[game_name] = reviews['critics'] | reviews['users']\n",
    "    except:\n",
    "        pass\n"
   ]
  },
  {
   "cell_type": "code",
   "execution_count": 24,
   "metadata": {},
   "outputs": [
    {
     "data": {
      "text/plain": [
       "{'dave': ({'Dave': 0.9230769230769231,\n",
       "   'Diver': 0.6153846153846154,\n",
       "   's': 0.5555555555555556,\n",
       "   'one': 0.46153846153846156,\n",
       "   'games': 0.38461538461538464,\n",
       "   'adventure': 0.3076923076923077,\n",
       "   'player': 0.3888888888888889,\n",
       "   'characters': 0.3333333333333333},\n",
       "  {'sushi': 0.23076923076923078,\n",
       "   'year': 0.23076923076923078,\n",
       "   'will': 0.46153846153846156,\n",
       "   'best': 0.6153846153846154,\n",
       "   'restaurant': 0.23076923076923078,\n",
       "   'Even': 0.2222222222222222,\n",
       "   'many': 0.2222222222222222,\n",
       "   'loop': 0.3076923076923077})}"
      ]
     },
     "execution_count": 24,
     "metadata": {},
     "output_type": "execute_result"
    }
   ],
   "source": [
    "reviews = {}\n",
    "results = {}\n",
    "\n",
    "reviews['critics'] = {'Dave': 0.9230769230769231,\n",
    " 'Diver': 0.6153846153846154,\n",
    " 's': 0.5555555555555556,\n",
    " 'one': 0.46153846153846156,\n",
    " 'games': 0.38461538461538464,\n",
    " 'adventure': 0.3076923076923077,\n",
    " 'player': 0.3888888888888889,\n",
    " 'characters': 0.3333333333333333}\n",
    "\n",
    "reviews['users'] = {'sushi': 0.23076923076923078,\n",
    " 'year': 0.23076923076923078,\n",
    " 'will': 0.46153846153846156,\n",
    " 'best': 0.6153846153846154,\n",
    " 'restaurant': 0.23076923076923078,\n",
    " 'Even': 0.2222222222222222,\n",
    " 'many': 0.2222222222222222,\n",
    " 'loop': 0.3076923076923077}\n",
    "\n",
    "#results['dave'] = reviews['critics'] | reviews['users']\n",
    "\n",
    "results['dave'] = reviews['critics'], reviews['users']\n",
    "results"
   ]
  },
  {
   "cell_type": "code",
   "execution_count": 7,
   "metadata": {},
   "outputs": [
    {
     "name": "stderr",
     "output_type": "stream",
     "text": [
      "  0%|          | 0/2 [00:00<?, ?it/s]"
     ]
    },
    {
     "name": "stdout",
     "output_type": "stream",
     "text": [
      "https://www.metacritic.com/game/pc/dave-the-diver/critic-reviews\n"
     ]
    },
    {
     "name": "stderr",
     "output_type": "stream",
     "text": [
      " 50%|█████     | 1/2 [00:31<00:31, 31.57s/it]"
     ]
    },
    {
     "name": "stdout",
     "output_type": "stream",
     "text": [
      "https://www.metacritic.com/game/pc/pizza-tower/critic-reviews\n"
     ]
    },
    {
     "name": "stderr",
     "output_type": "stream",
     "text": [
      "100%|██████████| 2/2 [00:40<00:00, 20.27s/it]\n"
     ]
    }
   ],
   "source": [
    "game_list_t = ['dave-the-diver', 'pizza-tower']\n",
    "for game_name in tqdm(game_list_t):\n",
    "    try:\n",
    "        path = '../driver/chromedriver.exe'\n",
    "        driver = webdriver.Chrome(service = Service(path))\n",
    "        reviews = {}\n",
    "        #print(game_name)\n",
    "        driver.get(critic_reviews(game_name))\n",
    "        #time.sleep(120)\n",
    "        print(critic_reviews(game_name))   \n",
    "        driver.close()\n",
    "        \n",
    "        #results[game_name] = reviews['critics'] | reviews['users']\n",
    "    except:\n",
    "        pass"
   ]
  },
  {
   "cell_type": "markdown",
   "metadata": {},
   "source": [
    "### 게임 리스트가 담긴 csv불러와서 검색에 용이하게 전처리!"
   ]
  },
  {
   "cell_type": "code",
   "execution_count": 110,
   "metadata": {},
   "outputs": [
    {
     "data": {
      "text/html": [
       "<div>\n",
       "<style scoped>\n",
       "    .dataframe tbody tr th:only-of-type {\n",
       "        vertical-align: middle;\n",
       "    }\n",
       "\n",
       "    .dataframe tbody tr th {\n",
       "        vertical-align: top;\n",
       "    }\n",
       "\n",
       "    .dataframe thead th {\n",
       "        text-align: right;\n",
       "    }\n",
       "</style>\n",
       "<table border=\"1\" class=\"dataframe\">\n",
       "  <thead>\n",
       "    <tr style=\"text-align: right;\">\n",
       "      <th></th>\n",
       "      <th>Rank</th>\n",
       "      <th>Game</th>\n",
       "    </tr>\n",
       "  </thead>\n",
       "  <tbody>\n",
       "    <tr>\n",
       "      <th>0</th>\n",
       "      <td>1</td>\n",
       "      <td>Pizza Tower</td>\n",
       "    </tr>\n",
       "    <tr>\n",
       "      <th>1</th>\n",
       "      <td>2</td>\n",
       "      <td>Resident Evil 4</td>\n",
       "    </tr>\n",
       "    <tr>\n",
       "      <th>2</th>\n",
       "      <td>3</td>\n",
       "      <td>Pineapple on pizza</td>\n",
       "    </tr>\n",
       "    <tr>\n",
       "      <th>3</th>\n",
       "      <td>4</td>\n",
       "      <td>Brotato</td>\n",
       "    </tr>\n",
       "    <tr>\n",
       "      <th>4</th>\n",
       "      <td>5</td>\n",
       "      <td>The Murder of Sonic the Hedgehog</td>\n",
       "    </tr>\n",
       "    <tr>\n",
       "      <th>...</th>\n",
       "      <td>...</td>\n",
       "      <td>...</td>\n",
       "    </tr>\n",
       "    <tr>\n",
       "      <th>195</th>\n",
       "      <td>96</td>\n",
       "      <td>['Planter', '2', 'Golde', 'Acorn']</td>\n",
       "    </tr>\n",
       "    <tr>\n",
       "      <th>196</th>\n",
       "      <td>97</td>\n",
       "      <td>['Shogu', 'Showdown']</td>\n",
       "    </tr>\n",
       "    <tr>\n",
       "      <th>197</th>\n",
       "      <td>98</td>\n",
       "      <td>['W', 'Lov', 'Katamar', 'REROLL', 'Roya', 'Rev...</td>\n",
       "    </tr>\n",
       "    <tr>\n",
       "      <th>198</th>\n",
       "      <td>99</td>\n",
       "      <td>['EMPT', 'SHELL', 'PROLOGUE']</td>\n",
       "    </tr>\n",
       "    <tr>\n",
       "      <th>199</th>\n",
       "      <td>100</td>\n",
       "      <td>['Demonologist']</td>\n",
       "    </tr>\n",
       "  </tbody>\n",
       "</table>\n",
       "<p>200 rows × 2 columns</p>\n",
       "</div>"
      ],
      "text/plain": [
       "     Rank                                               Game\n",
       "0       1                                        Pizza Tower\n",
       "1       2                                    Resident Evil 4\n",
       "2       3                                 Pineapple on pizza\n",
       "3       4                                            Brotato\n",
       "4       5                   The Murder of Sonic the Hedgehog\n",
       "..    ...                                                ...\n",
       "195    96                 ['Planter', '2', 'Golde', 'Acorn']\n",
       "196    97                              ['Shogu', 'Showdown']\n",
       "197    98  ['W', 'Lov', 'Katamar', 'REROLL', 'Roya', 'Rev...\n",
       "198    99                      ['EMPT', 'SHELL', 'PROLOGUE']\n",
       "199   100                                   ['Demonologist']\n",
       "\n",
       "[200 rows x 2 columns]"
      ]
     },
     "execution_count": 110,
     "metadata": {},
     "output_type": "execute_result"
    }
   ],
   "source": [
    "df = pd.read_csv('../rank2023.csv')\n",
    "df = df.loc[0:99,:]"
   ]
  },
  {
   "cell_type": "code",
   "execution_count": 129,
   "metadata": {},
   "outputs": [
    {
     "data": {
      "text/plain": [
       "['pizza-tower',\n",
       " 'resident-evil-4',\n",
       " 'pineapple-on-pizza',\n",
       " 'brotato',\n",
       " 'the-murder-of-sonic-the-hedgehog',\n",
       " 'dave-the-diver',\n",
       " 'crab-champions',\n",
       " 'hi-fi-rush',\n",
       " 'volcano-princess',\n",
       " '东北之夏',\n",
       " 'papas-freezeria-deluxe',\n",
       " 'villagerhapsody',\n",
       " 'dredge',\n",
       " 'aimlabs',\n",
       " 'steam-engine-simulator',\n",
       " 'a-space-for-the-unbound',\n",
       " 'bloody-hell',\n",
       " 'octopath-traveler-ii',\n",
       " 'handshakes',\n",
       " 'hrot',\n",
       " 'i-commissioned-some-bees-0',\n",
       " '候鸟',\n",
       " 'boneraiser-minions',\n",
       " 'your-only-move-is-hustle',\n",
       " 'spin-rhythm-xd',\n",
       " 'voidigo',\n",
       " 'hogwarts-legacy',\n",
       " 'the-outlast-trials',\n",
       " 'halls-of-torment',\n",
       " 'ghost-trick:-phantom-detective',\n",
       " 'cassette-beasts',\n",
       " 'your-turn-to-die--death-game-by-majority-',\n",
       " 'barotrauma',\n",
       " 'touhou\\xa0hero\\xa0of\\xa0ice\\xa0fairy',\n",
       " 'smushi-come-home',\n",
       " 'staffercase:-a-psychic-mystery-adventure',\n",
       " 'amanda-the-adventurer',\n",
       " 'the-test:-secrets-of-the-soul',\n",
       " 'dr-livesey-rom-and-death-edition',\n",
       " 'megs-monster',\n",
       " 'endless-monday:-dreams-and-deadlines',\n",
       " 'vertigo-2',\n",
       " 'contraband-police',\n",
       " 'bramble:-the-mountain-king',\n",
       " '20-minutes-till-dawn',\n",
       " 'slayers-x:-terminal-aftermath:-vengance-of-the-slayer',\n",
       " 'apewar',\n",
       " 'south-scrimshaw,-part-one',\n",
       " 'long-dream',\n",
       " 'coffee-talk-episode-2:-hibiscus-&-butterfly',\n",
       " 'luck-be-a-landlord',\n",
       " 'starship-troopers:-extermination',\n",
       " 'big-ambitions',\n",
       " 'bing-in-wonderland',\n",
       " 'birth',\n",
       " 'trepang2',\n",
       " 'landfall-archives',\n",
       " 'battlebit-remastered',\n",
       " 'shogun-showdown:-prologue',\n",
       " 'mad-games-tycoon-2',\n",
       " 'system-shock',\n",
       " 'scarlet-maiden',\n",
       " 'dead-space',\n",
       " 'paranormasight:-the-seven-mysteries-of-honjo',\n",
       " 'idol-showdown',\n",
       " 'moonleap',\n",
       " 'homicipher:-prologue',\n",
       " 'warhammer-40,000:-boltgun',\n",
       " 'path-of-achra',\n",
       " 'the-legend-of-heroes:-trails-to-azure',\n",
       " 'attack-on-titan-2---a.o.t.2',\n",
       " 'patch-quest',\n",
       " 'larcin-lazer',\n",
       " 'ages-of-conflict:-world-war-simulator',\n",
       " 'wartales',\n",
       " 'the-symbiant',\n",
       " 'poosh-xl',\n",
       " 'gorilla-tag',\n",
       " 'elong-plug',\n",
       " 'can-of-wormholes',\n",
       " 'stasis:-bone-totem',\n",
       " 'planet-of-lana',\n",
       " 'the-last-spell',\n",
       " 'wall-world',\n",
       " 'mortal-sin',\n",
       " '流光易逝的夏末---fleeting-summers-end',\n",
       " 'lake-haven---chrysalis',\n",
       " 'fallen-hero:-retribution',\n",
       " 'hush-hush---only-your-love-can-save-them',\n",
       " 'q.u.q.',\n",
       " 'sifu',\n",
       " 'love-love-school-days',\n",
       " 'killer-frequency',\n",
       " 'figment-2:-creed-valley',\n",
       " 'locke(d)',\n",
       " 'plantera-2:-golden-acorn',\n",
       " 'shogun-showdown',\n",
       " 'we-love-katamari-reroll+-royal-reverie',\n",
       " 'empty-shell:-prologue',\n",
       " 'demonologist']"
      ]
     },
     "execution_count": 129,
     "metadata": {},
     "output_type": "execute_result"
    }
   ],
   "source": [
    "game_list = []\n",
    "for i in df.Game:\n",
    "    game_name = i.replace(' ', '-').lower()\n",
    "    game_name = game_name.replace(\"'\", '')\n",
    "    # 소문자, 특수기호 빼기\n",
    "    game_list.append(game_name)\n",
    "    \n",
    "game_list"
   ]
  },
  {
   "cell_type": "code",
   "execution_count": null,
   "metadata": {},
   "outputs": [],
   "source": []
  }
 ],
 "metadata": {
  "kernelspec": {
   "display_name": "base",
   "language": "python",
   "name": "python3"
  },
  "language_info": {
   "codemirror_mode": {
    "name": "ipython",
    "version": 3
   },
   "file_extension": ".py",
   "mimetype": "text/x-python",
   "name": "python",
   "nbconvert_exporter": "python",
   "pygments_lexer": "ipython3",
   "version": "3.10.9"
  },
  "orig_nbformat": 4
 },
 "nbformat": 4,
 "nbformat_minor": 2
}
