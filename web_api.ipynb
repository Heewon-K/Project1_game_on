{
 "cells": [
  {
   "cell_type": "code",
   "execution_count": 13,
   "metadata": {},
   "outputs": [],
   "source": [
    "import requests\n",
    "import random\n",
    "import pandas as pd"
   ]
  },
  {
   "cell_type": "code",
   "execution_count": 36,
   "metadata": {},
   "outputs": [],
   "source": [
    "import os\n",
    "steamApiKey = '#본인의 api키'\n",
    "steamID = '# steam id'"
   ]
  },
  {
   "cell_type": "code",
   "execution_count": 35,
   "metadata": {},
   "outputs": [
    {
     "name": "stdout",
     "output_type": "stream",
     "text": [
      "None\n"
     ]
    }
   ],
   "source": [
    "print(steamApiKey)"
   ]
  },
  {
   "cell_type": "code",
   "execution_count": 42,
   "metadata": {},
   "outputs": [
    {
     "name": "stdout",
     "output_type": "stream",
     "text": [
      "87\n"
     ]
    }
   ],
   "source": [
    "# Steam api link formatting for 'GetOwnedGames'\n",
    "slink1 = 'https://api.steampowered.com/IPlayerService/GetOwnedGames/v1/?key='\n",
    "slink2 = \"&steamid=\" + str(steamID) + \"&include_appinfo=1&format=json\"\n",
    "slink = slink1 + steamApiKey +slink2\n",
    "\n",
    "# send API Get request and save response to variable\n",
    "r = requests.get(slink)\n",
    "#convert to json and save to another var\n",
    "steam_info = r.json()\n",
    "#print(steam_info)\n",
    "total_games = str(steam_info['response']['game_count'])\n",
    "print(total_games)"
   ]
  },
  {
   "cell_type": "code",
   "execution_count": null,
   "metadata": {},
   "outputs": [],
   "source": []
  }
 ],
 "metadata": {
  "kernelspec": {
   "display_name": "base",
   "language": "python",
   "name": "python3"
  },
  "language_info": {
   "codemirror_mode": {
    "name": "ipython",
    "version": 3
   },
   "file_extension": ".py",
   "mimetype": "text/x-python",
   "name": "python",
   "nbconvert_exporter": "python",
   "pygments_lexer": "ipython3",
   "version": "3.10.9"
  },
  "orig_nbformat": 4
 },
 "nbformat": 4,
 "nbformat_minor": 2
}
