{
 "cells": [
  {
   "cell_type": "markdown",
   "id": "3bbe9125",
   "metadata": {},
   "source": [
    "## 코드 설명  \n",
    "  \n",
    "웹크롤링, 스팀API Key, steam 라이브러리 이용\n",
    "  \n",
    "- input: 게임이름(영어) 리스트  \n",
    "- output: 게임이름, 게임ID, 게임장르, 게임카테고리, 게임출시일 데이터셋  \n",
    "  \n",
    "#### URL = 'https://store.steampowered.com/search/results/?query&start='+str(start)+'&count=50&sort_by=Released_DESC&snr=1_7_7_popularnew_7&filter=popularnew&os=win&infinite=1'  \n",
    "\n",
    "- URL 부분을 저희가 원하는 순서대로(인기순위) 바꾼다면 해당 코드 사용 가능  \n",
    "  "
   ]
  },
  {
   "cell_type": "markdown",
   "id": "864626d6",
   "metadata": {},
   "source": [
    "### 인기게임 이름 가져오기"
   ]
  },
  {
   "cell_type": "code",
   "execution_count": 1,
   "id": "793d4ea9",
   "metadata": {},
   "outputs": [],
   "source": [
    "import requests\n",
    "from bs4 import BeautifulSoup"
   ]
  },
  {
   "cell_type": "markdown",
   "id": "03e3271b",
   "metadata": {},
   "source": [
    "**한국어 게임이름 리스트는 해당부분으로 수정하여 사용할 수 있으나 이후 정보를 가져올 수 없기 때문에 영어리스트 이용함**   \n",
    "res = requests.get(URL, cookies={\n",
    "        'Steam_Language':'koreana'\n",
    "    })"
   ]
  },
  {
   "cell_type": "code",
   "execution_count": 28,
   "id": "06ecb59f",
   "metadata": {},
   "outputs": [],
   "source": [
    "result = []\n",
    "rank_length = 200\n",
    "# 50: 숨겨진 리스트가 50개씩 출력되기 때문\n",
    "for start in range(0, rank_length, 50):\n",
    "    URL = 'https://store.steampowered.com/search/results/?query&start='+str(start)+'&count=50&sort_by=Released_DESC&snr=1_7_7_popularnew_7&filter=popularnew&os=win&infinite=1'\n",
    "    res = requests.get(URL)\n",
    "    json_data = res.json()\n",
    "    soup = BeautifulSoup(json_data['results_html'], 'html.parser')\n",
    "    # steam = soup.select_one('#search_resultsRows')\n",
    "    titles = soup.select('.col.search_name.ellipsis .title')\n",
    "    \n",
    "    for title in titles:\n",
    "        result.append(title.text)\n"
   ]
  },
  {
   "cell_type": "code",
   "execution_count": null,
   "id": "2eb63a09",
   "metadata": {},
   "outputs": [],
   "source": [
    "result[:20]"
   ]
  },
  {
   "cell_type": "markdown",
   "id": "bff762fc",
   "metadata": {},
   "source": [
    "### 데이터셋 가져오기"
   ]
  },
  {
   "cell_type": "code",
   "execution_count": 3,
   "id": "a67e7b15",
   "metadata": {},
   "outputs": [],
   "source": [
    "import os, json\n",
    "\n",
    "from dotenv import load_dotenv\n",
    "from steam import Steam\n",
    "from datetime import datetime\n",
    "\n",
    "from tqdm import tqdm"
   ]
  },
  {
   "cell_type": "code",
   "execution_count": 4,
   "id": "73bb2038",
   "metadata": {},
   "outputs": [],
   "source": [
    "load_dotenv('.env')\n",
    "KEY = os.getenv('STEAM_API_KEY')\n",
    "steam = Steam(KEY)"
   ]
  },
  {
   "cell_type": "code",
   "execution_count": 29,
   "id": "39b63dc0",
   "metadata": {
    "scrolled": true
   },
   "outputs": [
    {
     "name": "stderr",
     "output_type": "stream",
     "text": [
      "100%|████████████████████████████████████████████████████████████████████████████████| 200/200 [04:08<00:00,  1.24s/it]"
     ]
    },
    {
     "name": "stdout",
     "output_type": "stream",
     "text": [
      "CPU times: total: 21.1 s\n",
      "Wall time: 4min 8s\n"
     ]
    },
    {
     "name": "stderr",
     "output_type": "stream",
     "text": [
      "\n"
     ]
    }
   ],
   "source": [
    "%%time\n",
    "cat_dict = {}\n",
    "gen_dict = {}\n",
    "data_list = []\n",
    "\n",
    "for game_name in tqdm(result):\n",
    "    # 데이터 정보가 없는 경우도 있음\n",
    "    try:\n",
    "        # 게임ID 가져오기\n",
    "        game_id = str(steam.apps.search_games(game_name)['apps'][0]['id'])\n",
    "        # 게임정보 가져오기\n",
    "        game_info = steam.apps.get_app_details(game_id)\n",
    "        g_info = json.loads(game_info)\n",
    "        # 해당 게임의 장르리스트 가져오기\n",
    "        gens_list= []\n",
    "        gens = g_info[game_id]['data']['genres']\n",
    "        for gen in gens:\n",
    "            gen_name = gen['description']\n",
    "            gens_list.append(gen_name)\n",
    "\n",
    "            # 전체 게임 장르 카운트\n",
    "            key = gen['description']\n",
    "            try:\n",
    "                gen_dict[key] += 1\n",
    "            except:\n",
    "                gen_dict[key] = 1\n",
    "\n",
    "        cats = g_info[game_id]['data']['categories']\n",
    "        \n",
    "        cats_list= []\n",
    "        \n",
    "        for cat in cats:\n",
    "            cat_name = cat['description']\n",
    "            cats_list.append(cat_name)\n",
    "            try:\n",
    "                cat_dict[cat_name] += 1\n",
    "            except:\n",
    "                cat_dict[cat_name] = 1\n",
    "\n",
    "\n",
    "        # 출시일 정보 가져오기\n",
    "        g_date_str = g_info[game_id]['data']['release_date']['date']\n",
    "\n",
    "        # date타입으로 변환\n",
    "        g_date = datetime.strptime(g_date_str,'%d %b, %Y')\n",
    "\n",
    "        # 우리가 원하는 date 시작, 끝 구간\n",
    "        d1 = datetime(2018, 6, 1)\n",
    "        d2 = datetime(2023, 6, 30)\n",
    "\n",
    "        # 그 사이에 있는 날짜\n",
    "        if (g_date-d1).days >0 and (g_date-d2).days < 0:\n",
    "            # 자료\n",
    "            record = (game_name, game_id, gens_list, cats_list, g_date)\n",
    "\n",
    "            data_list.append(record)\n",
    "        \n",
    "        \n",
    "        \n",
    "    except:\n",
    "        pass"
   ]
  },
  {
   "cell_type": "code",
   "execution_count": 27,
   "id": "b8a2aaf5",
   "metadata": {},
   "outputs": [
    {
     "data": {
      "text/plain": [
       "87"
      ]
     },
     "execution_count": 27,
     "metadata": {},
     "output_type": "execute_result"
    }
   ],
   "source": [
    "len(data_list)"
   ]
  },
  {
   "cell_type": "code",
   "execution_count": 22,
   "id": "babebd4c",
   "metadata": {},
   "outputs": [
    {
     "data": {
      "text/plain": [
       "{'Single-player': 78,\n",
       " 'Steam Achievements': 59,\n",
       " 'Full controller support': 43,\n",
       " 'Steam Cloud': 52,\n",
       " 'Steam Trading Cards': 15,\n",
       " 'Downloadable Content': 1,\n",
       " 'Steam Workshop': 6,\n",
       " 'Multi-player': 30,\n",
       " 'Co-op': 23,\n",
       " 'Online Co-op': 22,\n",
       " 'Stats': 3,\n",
       " 'Steam Leaderboards': 4,\n",
       " 'PvP': 18,\n",
       " 'Online PvP': 18,\n",
       " 'Shared/Split Screen PvP': 6,\n",
       " 'Shared/Split Screen Co-op': 3,\n",
       " 'Shared/Split Screen': 6,\n",
       " 'VR Supported': 2,\n",
       " 'Remote Play Together': 4,\n",
       " 'MMO': 5,\n",
       " 'Partial Controller Support': 14,\n",
       " 'Cross-Platform Multiplayer': 8,\n",
       " 'In-App Purchases': 18,\n",
       " 'Includes level editor': 2,\n",
       " 'Remote Play on Phone': 2,\n",
       " 'Remote Play on Tablet': 2,\n",
       " 'Remote Play on TV': 3,\n",
       " 'LAN PvP': 1,\n",
       " 'Captions available': 2,\n",
       " 'Tracked Controller Support': 2,\n",
       " 'LAN Co-op': 2}"
      ]
     },
     "execution_count": 22,
     "metadata": {},
     "output_type": "execute_result"
    }
   ],
   "source": [
    "cat_dict"
   ]
  },
  {
   "cell_type": "markdown",
   "id": "581716ca",
   "metadata": {},
   "source": [
    "### 데이터셋으로 데이터프레임 만들기"
   ]
  },
  {
   "cell_type": "code",
   "execution_count": 25,
   "id": "7f9d102b",
   "metadata": {},
   "outputs": [],
   "source": [
    "import pandas as pd"
   ]
  },
  {
   "cell_type": "code",
   "execution_count": 23,
   "id": "e59e7a4e",
   "metadata": {},
   "outputs": [],
   "source": [
    "column_name = ['game_name','game_id','game_genres','game_category','game_rel_d']"
   ]
  },
  {
   "cell_type": "code",
   "execution_count": 26,
   "id": "18865b77",
   "metadata": {
    "scrolled": false
   },
   "outputs": [
    {
     "data": {
      "text/html": [
       "<div>\n",
       "<style scoped>\n",
       "    .dataframe tbody tr th:only-of-type {\n",
       "        vertical-align: middle;\n",
       "    }\n",
       "\n",
       "    .dataframe tbody tr th {\n",
       "        vertical-align: top;\n",
       "    }\n",
       "\n",
       "    .dataframe thead th {\n",
       "        text-align: right;\n",
       "    }\n",
       "</style>\n",
       "<table border=\"1\" class=\"dataframe\">\n",
       "  <thead>\n",
       "    <tr style=\"text-align: right;\">\n",
       "      <th></th>\n",
       "      <th>game_name</th>\n",
       "      <th>game_id</th>\n",
       "      <th>game_genres</th>\n",
       "      <th>game_category</th>\n",
       "      <th>game_rel_d</th>\n",
       "    </tr>\n",
       "  </thead>\n",
       "  <tbody>\n",
       "    <tr>\n",
       "      <th>0</th>\n",
       "      <td>Ghost Trick: Phantom Detective</td>\n",
       "      <td>1967430</td>\n",
       "      <td>[Action, Adventure]</td>\n",
       "      <td>[Single-player, Steam Achievements, Full contr...</td>\n",
       "      <td>2023-06-29</td>\n",
       "    </tr>\n",
       "    <tr>\n",
       "      <th>1</th>\n",
       "      <td>DAVE THE DIVER Digital Extra</td>\n",
       "      <td>2492320</td>\n",
       "      <td>[Adventure, Casual, Indie, RPG, Simulation]</td>\n",
       "      <td>[Single-player, Downloadable Content, Full con...</td>\n",
       "      <td>2023-06-28</td>\n",
       "    </tr>\n",
       "    <tr>\n",
       "      <th>2</th>\n",
       "      <td>DAVE THE DIVER</td>\n",
       "      <td>1868140</td>\n",
       "      <td>[Adventure, Casual, Indie, RPG, Simulation]</td>\n",
       "      <td>[Single-player, Steam Achievements, Full contr...</td>\n",
       "      <td>2023-06-28</td>\n",
       "    </tr>\n",
       "    <tr>\n",
       "      <th>3</th>\n",
       "      <td>Shogun Showdown</td>\n",
       "      <td>2084000</td>\n",
       "      <td>[Indie, RPG, Strategy, Early Access]</td>\n",
       "      <td>[Single-player, Steam Achievements, Steam Cloud]</td>\n",
       "      <td>2023-06-27</td>\n",
       "    </tr>\n",
       "    <tr>\n",
       "      <th>4</th>\n",
       "      <td>Kingdom Eighties</td>\n",
       "      <td>1956040</td>\n",
       "      <td>[Action, Strategy]</td>\n",
       "      <td>[Single-player, Steam Achievements, Full contr...</td>\n",
       "      <td>2023-06-26</td>\n",
       "    </tr>\n",
       "    <tr>\n",
       "      <th>...</th>\n",
       "      <td>...</td>\n",
       "      <td>...</td>\n",
       "      <td>...</td>\n",
       "      <td>...</td>\n",
       "      <td>...</td>\n",
       "    </tr>\n",
       "    <tr>\n",
       "      <th>82</th>\n",
       "      <td>CRISIS CORE –FINAL FANTASY VII– REUNION</td>\n",
       "      <td>1608070</td>\n",
       "      <td>[Action, RPG]</td>\n",
       "      <td>[Single-player, Steam Achievements, Full contr...</td>\n",
       "      <td>2022-12-13</td>\n",
       "    </tr>\n",
       "    <tr>\n",
       "      <th>83</th>\n",
       "      <td>PROJECT: PLAYTIME</td>\n",
       "      <td>1961460</td>\n",
       "      <td>[Action, Free to Play, Indie, Early Access]</td>\n",
       "      <td>[Multi-player, Co-op, Online Co-op, In-App Pur...</td>\n",
       "      <td>2022-12-12</td>\n",
       "    </tr>\n",
       "    <tr>\n",
       "      <th>84</th>\n",
       "      <td>Chained Echoes</td>\n",
       "      <td>1229240</td>\n",
       "      <td>[Indie, RPG]</td>\n",
       "      <td>[Single-player, Steam Achievements, Full contr...</td>\n",
       "      <td>2022-12-08</td>\n",
       "    </tr>\n",
       "    <tr>\n",
       "      <th>85</th>\n",
       "      <td>Knights of Honor II: Sovereign</td>\n",
       "      <td>736820</td>\n",
       "      <td>[Simulation, Strategy]</td>\n",
       "      <td>[Single-player, Multi-player, PvP, Online PvP,...</td>\n",
       "      <td>2022-12-06</td>\n",
       "    </tr>\n",
       "    <tr>\n",
       "      <th>86</th>\n",
       "      <td>Marvel's Midnight Suns</td>\n",
       "      <td>368260</td>\n",
       "      <td>[RPG, Strategy]</td>\n",
       "      <td>[Single-player, Steam Achievements, Full contr...</td>\n",
       "      <td>2022-12-01</td>\n",
       "    </tr>\n",
       "  </tbody>\n",
       "</table>\n",
       "<p>87 rows × 5 columns</p>\n",
       "</div>"
      ],
      "text/plain": [
       "                                  game_name  game_id  \\\n",
       "0            Ghost Trick: Phantom Detective  1967430   \n",
       "1              DAVE THE DIVER Digital Extra  2492320   \n",
       "2                            DAVE THE DIVER  1868140   \n",
       "3                           Shogun Showdown  2084000   \n",
       "4                          Kingdom Eighties  1956040   \n",
       "..                                      ...      ...   \n",
       "82  CRISIS CORE –FINAL FANTASY VII– REUNION  1608070   \n",
       "83                        PROJECT: PLAYTIME  1961460   \n",
       "84                           Chained Echoes  1229240   \n",
       "85           Knights of Honor II: Sovereign   736820   \n",
       "86                   Marvel's Midnight Suns   368260   \n",
       "\n",
       "                                    game_genres  \\\n",
       "0                           [Action, Adventure]   \n",
       "1   [Adventure, Casual, Indie, RPG, Simulation]   \n",
       "2   [Adventure, Casual, Indie, RPG, Simulation]   \n",
       "3          [Indie, RPG, Strategy, Early Access]   \n",
       "4                            [Action, Strategy]   \n",
       "..                                          ...   \n",
       "82                                [Action, RPG]   \n",
       "83  [Action, Free to Play, Indie, Early Access]   \n",
       "84                                 [Indie, RPG]   \n",
       "85                       [Simulation, Strategy]   \n",
       "86                              [RPG, Strategy]   \n",
       "\n",
       "                                        game_category game_rel_d  \n",
       "0   [Single-player, Steam Achievements, Full contr... 2023-06-29  \n",
       "1   [Single-player, Downloadable Content, Full con... 2023-06-28  \n",
       "2   [Single-player, Steam Achievements, Full contr... 2023-06-28  \n",
       "3    [Single-player, Steam Achievements, Steam Cloud] 2023-06-27  \n",
       "4   [Single-player, Steam Achievements, Full contr... 2023-06-26  \n",
       "..                                                ...        ...  \n",
       "82  [Single-player, Steam Achievements, Full contr... 2022-12-13  \n",
       "83  [Multi-player, Co-op, Online Co-op, In-App Pur... 2022-12-12  \n",
       "84  [Single-player, Steam Achievements, Full contr... 2022-12-08  \n",
       "85  [Single-player, Multi-player, PvP, Online PvP,... 2022-12-06  \n",
       "86  [Single-player, Steam Achievements, Full contr... 2022-12-01  \n",
       "\n",
       "[87 rows x 5 columns]"
      ]
     },
     "execution_count": 26,
     "metadata": {},
     "output_type": "execute_result"
    }
   ],
   "source": [
    "result_df = pd.DataFrame(data_list, columns = column_name)\n",
    "result_df"
   ]
  }
 ],
 "metadata": {
  "kernelspec": {
   "display_name": "Python 3 (ipykernel)",
   "language": "python",
   "name": "python3"
  },
  "language_info": {
   "codemirror_mode": {
    "name": "ipython",
    "version": 3
   },
   "file_extension": ".py",
   "mimetype": "text/x-python",
   "name": "python",
   "nbconvert_exporter": "python",
   "pygments_lexer": "ipython3",
   "version": "3.10.9"
  }
 },
 "nbformat": 4,
 "nbformat_minor": 5
}
